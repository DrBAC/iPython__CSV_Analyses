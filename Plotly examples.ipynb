{
 "cells": [
  {
   "cell_type": "code",
   "execution_count": 1,
   "metadata": {
    "collapsed": false,
    "scrolled": false
   },
   "outputs": [
    {
     "name": "stdout",
     "output_type": "stream",
     "text": [
      "Collecting xhtml2pdf\n",
      "  Downloading xhtml2pdf-0.0.6.zip (120kB)\n",
      "Requirement already satisfied (use --upgrade to upgrade): html5lib in c:\\users\\ben.coombs\\local_docs\\winpython\\python-3.4.3\\lib\\site-packages (from xhtml2pdf)\n",
      "Collecting pyPdf2 (from xhtml2pdf)\n",
      "  Downloading PyPDF2-1.26.0.tar.gz (77kB)\n",
      "Requirement already satisfied (use --upgrade to upgrade): Pillow in c:\\users\\ben.coombs\\local_docs\\winpython\\python-3.4.3\\lib\\site-packages (from xhtml2pdf)\n",
      "Requirement already satisfied (use --upgrade to upgrade): reportlab>=2.2 in c:\\users\\ben.coombs\\local_docs\\winpython\\python-3.4.3\\lib\\site-packages (from xhtml2pdf)\n",
      "Requirement already satisfied (use --upgrade to upgrade): six in c:\\users\\ben.coombs\\local_docs\\winpython\\python-3.4.3\\lib\\site-packages (from html5lib->xhtml2pdf)\n",
      "Building wheels for collected packages: xhtml2pdf, pyPdf2\n",
      "  Running setup.py bdist_wheel for xhtml2pdf: started\n",
      "  Running setup.py bdist_wheel for xhtml2pdf: finished with status 'done'\n",
      "  Stored in directory: C:\\Users\\ben.coombs\\AppData\\Local\\pip\\Cache\\wheels\\ec\\eb\\db\\13a2be9c15f492c65086709a69042924ebfb7aa4c4cc7284f1\n",
      "  Running setup.py bdist_wheel for pyPdf2: started\n",
      "  Running setup.py bdist_wheel for pyPdf2: finished with status 'done'\n",
      "  Stored in directory: C:\\Users\\ben.coombs\\AppData\\Local\\pip\\Cache\\wheels\\86\\6a\\6a\\1ce004a5996894d33d93e1fb1b67c30973dc945cc5875a1dd0\n",
      "Successfully built xhtml2pdf pyPdf2\n",
      "Installing collected packages: pyPdf2, xhtml2pdf\n",
      "Successfully installed pyPdf2-1.26.0 xhtml2pdf-0.0.6\n"
     ]
    }
   ],
   "source": [
    "! pip install xhtml2pdf"
   ]
  },
  {
   "cell_type": "code",
   "execution_count": 2,
   "metadata": {
    "collapsed": true
   },
   "outputs": [],
   "source": [
    "# The public plotly graphs to include in the report. These can also be generated with `py.plot(figure, filename)`\n",
    "graphs = [\n",
    "    'https://plot.ly/~christopherp/308',\n",
    "    'https://plot.ly/~christopherp/306',\n",
    "    'https://plot.ly/~christopherp/300',\n",
    "    'https://plot.ly/~christopherp/296'\n",
    "]"
   ]
  },
  {
   "cell_type": "code",
   "execution_count": 3,
   "metadata": {
    "collapsed": true
   },
   "outputs": [],
   "source": [
    "from IPython.display import display, HTML\n",
    "\n",
    "def report_block_template(report_type, graph_url, caption=''):\n",
    "    if report_type == 'interactive':\n",
    "        graph_block = '<iframe style=\"border: none;\" src=\"{graph_url}.embed\" width=\"100%\" height=\"600px\"></iframe>'\n",
    "    elif report_type == 'static':\n",
    "        graph_block = (''\n",
    "            '<a href=\"{graph_url}\" target=\"_blank\">' # Open the interactive graph when you click on the image\n",
    "                '<img style=\"height: 400px;\" src=\"{graph_url}.png\">'\n",
    "            '</a>')\n",
    "\n",
    "    report_block = ('' +\n",
    "        graph_block + \n",
    "        '{caption}' + # Optional caption to include below the graph\n",
    "        '<br>'      + # Line break\n",
    "        '<a href=\"{graph_url}\" style=\"color: rgb(190,190,190); text-decoration: none; font-weight: 200;\" target=\"_blank\">'+ \n",
    "            'Click to comment and see the interactive graph' + # Direct readers to Plotly for commenting, interactive graph\n",
    "        '</a>' + \n",
    "        '<br>' + \n",
    "        '<hr>') # horizontal line                       \n",
    "\n",
    "    return report_block.format(graph_url=graph_url, caption=caption)\n",
    "\n",
    "\n",
    "interactive_report = ''\n",
    "static_report = ''\n",
    "\n",
    "for graph_url in graphs:\n",
    "    _static_block = report_block_template('static', graph_url, caption='')\n",
    "    _interactive_block = report_block_template('interactive', graph_url, caption='')\n",
    "\n",
    "    static_report += _static_block\n",
    "    interactive_report += _interactive_block"
   ]
  },
  {
   "cell_type": "code",
   "execution_count": 4,
   "metadata": {
    "collapsed": false,
    "scrolled": false
   },
   "outputs": [
    {
     "data": {
      "text/html": [
       "<iframe style=\"border: none;\" src=\"https://plot.ly/~christopherp/308.embed\" width=\"100%\" height=\"600px\"></iframe><br><a href=\"https://plot.ly/~christopherp/308\" style=\"color: rgb(190,190,190); text-decoration: none; font-weight: 200;\" target=\"_blank\">Click to comment and see the interactive graph</a><br><hr><iframe style=\"border: none;\" src=\"https://plot.ly/~christopherp/306.embed\" width=\"100%\" height=\"600px\"></iframe><br><a href=\"https://plot.ly/~christopherp/306\" style=\"color: rgb(190,190,190); text-decoration: none; font-weight: 200;\" target=\"_blank\">Click to comment and see the interactive graph</a><br><hr><iframe style=\"border: none;\" src=\"https://plot.ly/~christopherp/300.embed\" width=\"100%\" height=\"600px\"></iframe><br><a href=\"https://plot.ly/~christopherp/300\" style=\"color: rgb(190,190,190); text-decoration: none; font-weight: 200;\" target=\"_blank\">Click to comment and see the interactive graph</a><br><hr><iframe style=\"border: none;\" src=\"https://plot.ly/~christopherp/296.embed\" width=\"100%\" height=\"600px\"></iframe><br><a href=\"https://plot.ly/~christopherp/296\" style=\"color: rgb(190,190,190); text-decoration: none; font-weight: 200;\" target=\"_blank\">Click to comment and see the interactive graph</a><br><hr>"
      ],
      "text/plain": [
       "<IPython.core.display.HTML object>"
      ]
     },
     "metadata": {},
     "output_type": "display_data"
    }
   ],
   "source": [
    "display(HTML(interactive_report))"
   ]
  },
  {
   "cell_type": "code",
   "execution_count": 5,
   "metadata": {
    "collapsed": false,
    "scrolled": true
   },
   "outputs": [
    {
     "ename": "SyntaxError",
     "evalue": "invalid syntax (util.py, line 302)",
     "output_type": "error",
     "traceback": [
      "\u001b[1;36m  File \u001b[1;32m\"C:\\Users\\ben.coombs\\Local_Docs\\WinPython\\python-3.4.3\\lib\\site-packages\\xhtml2pdf\\util.py\"\u001b[1;36m, line \u001b[1;32m302\u001b[0m\n\u001b[1;33m    raise Exception, \"box not defined right way\"\u001b[0m\n\u001b[1;37m                   ^\u001b[0m\n\u001b[1;31mSyntaxError\u001b[0m\u001b[1;31m:\u001b[0m invalid syntax\n"
     ]
    }
   ],
   "source": [
    "from xhtml2pdf import pisa             # import python module\n",
    "\n",
    "# Utility function\n",
    "def convert_html_to_pdf(source_html, output_filename):\n",
    "    # open output file for writing (truncated binary)\n",
    "    result_file = open(output_filename, \"w+b\")\n",
    "\n",
    "    # convert HTML to PDF\n",
    "    pisa_status = pisa.CreatePDF(\n",
    "            source_html,                # the HTML to convert\n",
    "            dest=result_file)           # file handle to recieve result\n",
    "\n",
    "    # close output file\n",
    "    result_file.close()                 # close output file\n",
    "\n",
    "    # return True on success and False on errors\n",
    "    return pisa_status.err"
   ]
  },
  {
   "cell_type": "code",
   "execution_count": 6,
   "metadata": {
    "collapsed": false
   },
   "outputs": [
    {
     "name": "stdout",
     "output_type": "stream",
     "text": [
      "Collecting xhtml12pdf\n"
     ]
    },
    {
     "name": "stderr",
     "output_type": "stream",
     "text": [
      "  Could not find a version that satisfies the requirement xhtml12pdf (from versions: )\n",
      "No matching distribution found for xhtml12pdf\n"
     ]
    }
   ],
   "source": [
    "! pip install xhtml12pdf"
   ]
  }
 ],
 "metadata": {
  "kernelspec": {
   "display_name": "Python 3",
   "language": "python",
   "name": "python3"
  },
  "language_info": {
   "codemirror_mode": {
    "name": "ipython",
    "version": 3
   },
   "file_extension": ".py",
   "mimetype": "text/x-python",
   "name": "python",
   "nbconvert_exporter": "python",
   "pygments_lexer": "ipython3",
   "version": "3.4.3"
  }
 },
 "nbformat": 4,
 "nbformat_minor": 0
}
