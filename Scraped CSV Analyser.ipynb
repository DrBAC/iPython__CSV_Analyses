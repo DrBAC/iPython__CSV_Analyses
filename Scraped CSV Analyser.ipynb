{
 "cells": [
  {
   "cell_type": "code",
   "execution_count": null,
   "metadata": {
    "collapsed": false
   },
   "outputs": [],
   "source": [
    "print('Python version ' + sys.version)\n",
    "print('Pandas version ' + pd.__version__)\n",
    "print('Matplotlib version ' + matplotlib.__version__)\n",
    "\n",
    "read_csv?"
   ]
  },
  {
   "cell_type": "code",
   "execution_count": 1,
   "metadata": {
    "collapsed": false
   },
   "outputs": [],
   "source": [
    "from pandas import DataFrame, read_csv\n",
    "import matplotlib.pyplot as plt\n",
    "import pandas as pd\n",
    "import sys\n",
    "import matplotlib\n",
    "import numpy as np\n",
    "import re\n",
    "\n",
    "\n",
    "Location = r'DIRECTORY TEST DATA OVERVIEW 2016-07-27.csv'\n",
    "\n",
    "File_name = 'channel30 VTO'\n",
    "VTODict = {}\n",
    "MobDict = {}\n",
    "\n",
    "def listCleaner(data_to_plot):\n",
    "    \n",
    "    '''Function takes string which represents the list of mobs (directly \n",
    "    unedited from the cell) or VTOs and converts into an appropriate list \n",
    "    for boxplotting'''\n",
    "    \n",
    "    data_to_plot = re.sub('[\\[\\]]','', data_to_plot)\n",
    "    data_to_plot = re.sub('[None]', '0', data_to_plot)\n",
    "    data_to_plot = data_to_plot.split(',')\n",
    "    data_to_plot = [float(i) for i in data_to_plot]\n",
    "    #data_to_plot = \"{:.2f}\".format(data_to_plot)\n",
    "    nozerolist = [x for x in data_to_plot if x != 0.0]\n",
    "    \n",
    "    return nozerolist\n",
    "\n",
    "df = pd.read_csv(Location)"
   ]
  },
  {
   "cell_type": "code",
   "execution_count": null,
   "metadata": {
    "collapsed": false,
    "scrolled": true
   },
   "outputs": [],
   "source": [
    "df"
   ]
  },
  {
   "cell_type": "code",
   "execution_count": null,
   "metadata": {
    "collapsed": false
   },
   "outputs": [],
   "source": [
    "from bokeh.plotting import figure, show\n",
    "from bokeh.io import output_notebook\n",
    "from bokeh.charts import BoxPlot, output_file, show\n",
    "from bokeh.sampledata.autompg import autompg as df\n",
    "\n",
    "p = BoxPlot(df, values='mpg', label='cyl', title ='whatever')\n",
    "\n",
    "output_file(\"bokeh_example.html\")\n",
    "\n",
    "show(p)"
   ]
  },
  {
   "cell_type": "code",
   "execution_count": null,
   "metadata": {
    "collapsed": false
   },
   "outputs": [],
   "source": [
    "import plotly as py\n",
    "import pandas as pd\n",
    "import numpy as np\n",
    "\n",
    "from datetime import datetime\n",
    "from datetime import time as dt_tm\n",
    "from datetime import date as dt_date\n",
    "\n",
    "import plotly.plotly as py\n",
    "import plotly.tools as plotly_tools\n",
    "from plotly.graph_objs import *\n",
    "\n",
    "import os\n",
    "import tempfile\n",
    "os.environ['MPLCONFIGDIR'] = tempfile.mkdtemp()\n",
    "from matplotlib.finance import quotes_historical_yahoo\n",
    "import matplotlib.pyplot as plt\n",
    "\n",
    "from scipy.stats import gaussian_kde\n",
    "\n",
    "from IPython.display import HTML\n",
    "\n",
    "\n",
    "x = []\n",
    "y = []\n",
    "ma = []\n",
    "\n",
    "def moving_average(interval, window_size):\n",
    "    window = np.ones(int(window_size))/float(window_size)\n",
    "    return np.convolve(interval, window, 'same')\n",
    "\n",
    "date1 = dt_date( 2014, 1, 1 )\n",
    "date2 = dt_date( 2014, 12, 12 )\n",
    "quotes = quotes_historical_yahoo('AAPL', date1, date2)\n",
    "if len(quotes) == 0:\n",
    "    print(\"Couldn't connect to yahoo trading database\")\n",
    "else:\n",
    "    dates = [q[0] for q in quotes]\n",
    "    y = [q[1] for q in quotes]\n",
    "    for date in dates:\n",
    "        x.append(datetime.fromordinal(int(date))\\\n",
    "                .strftime('%Y-%m-%d')) # Plotly timestamp format\n",
    "    ma = moving_average(y, 10)\n",
    "\n",
    "\n",
    "xy_data = Scatter( x=x, y=y, mode='markers', marker=Marker(size=4), name='AAPL' )\n",
    "# vvv clip first and last points of convolution\n",
    "mov_avg = Scatter( x=x[5:-4], y=ma[5:-4], \\\n",
    "                  line=Line(width=2,color='red',opacity=0.5), name='Moving average' )\n",
    "data = Data([xy_data, mov_avg])\n",
    "\n",
    "py.iplot(data, filename='apple stock moving average')    \n",
    "\n",
    "\n",
    "\n",
    "first_plot_url = py.plot(data, filename='apple stock moving average', auto_open=False,)\n",
    "print(first_plot_url)"
   ]
  },
  {
   "cell_type": "code",
   "execution_count": 2,
   "metadata": {
    "collapsed": false
   },
   "outputs": [],
   "source": [
    "df = df.drop(['VTH','Capicitance','Comments','Mobility','SDev','On/Off','VTO','Yield','Date of test'],\n",
    "             axis=1)\n",
    "df_channel = df[df.CW == 30]\n",
    "df_channel = df_channel.reset_index(drop=True)\n",
    "\n",
    "rows = len(df_channel.index)\n",
    "\n",
    "fileList = df_channel['File'].tolist()\n",
    "\n",
    "\n",
    "for x in range(0,rows):\n",
    "    VTODict[\"VTO{0}\".format(x)]=df_channel.iloc[x]['VTO_Ind']\n",
    "    \n",
    "for x in range(0,rows):\n",
    "    MobDict[\"Mob{0}\".format(x)]=df_channel.iloc[x]['Mobs_Ind']\n",
    "    \n",
    "AllVTOs = list(VTODict.values())\n",
    "AllMobs = list(MobDict.values())\n",
    "\n",
    "cleanedMobs = [listCleaner(x) for x in AllMobs]\n",
    "cleanedVTO = [listCleaner(x) for x in AllVTOs]\n",
    "\n",
    "# plt.title('Center Title')\n",
    "# plt.title('Left Title', loc='left')\n",
    "# plt.title('Right Title', loc='right')\n",
    "\n",
    "fig = plt.figure(1, figsize=(9,6))\n",
    "ax = fig.add_subplot(111)\n",
    "bp = ax.boxplot(cleanedVTO)\n",
    "plt.xticks(rotation=90)\n",
    "ax.set_xticklabels(fileList)\n",
    "fig.savefig(File_name, bbox_inches='tight')"
   ]
  },
  {
   "cell_type": "code",
   "execution_count": null,
   "metadata": {
    "collapsed": true
   },
   "outputs": [],
   "source": []
  },
  {
   "cell_type": "markdown",
   "metadata": {
    "collapsed": true
   },
   "source": [
    "<img src=\"fig5.png\" />"
   ]
  }
 ],
 "metadata": {
  "kernelspec": {
   "display_name": "Python 3",
   "language": "python",
   "name": "python3"
  },
  "language_info": {
   "codemirror_mode": {
    "name": "ipython",
    "version": 3
   },
   "file_extension": ".py",
   "mimetype": "text/x-python",
   "name": "python",
   "nbconvert_exporter": "python",
   "pygments_lexer": "ipython3",
   "version": "3.4.3"
  }
 },
 "nbformat": 4,
 "nbformat_minor": 0
}
